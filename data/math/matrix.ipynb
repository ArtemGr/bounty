{
 "cells": [
  {
   "cell_type": "code",
   "execution_count": 21,
   "metadata": {},
   "outputs": [
    {
     "data": {
      "text/plain": [
       "array([[[ 2,  1,  3],\n",
       "        [ 3,  1,  4],\n",
       "        [ 5,  7, 12]]])"
      ]
     },
     "execution_count": 21,
     "metadata": {},
     "output_type": "execute_result"
    }
   ],
   "source": [
    "# https://youtu.be/YiqIkSHSmyc ~4\n",
    "# define a matrix\n",
    "#  2  1  3\n",
    "#  3  1  4\n",
    "#  5  7 12\n",
    "import numpy as np\n",
    "# cf. https://numpy.org/doc/stable/reference/generated/numpy.dstack.html\n",
    "np.dstack([[2, 3, 5], [1, 1, 7], [3, 4, 12]])  # Column-major"
   ]
  },
  {
   "cell_type": "code",
   "execution_count": 22,
   "metadata": {},
   "outputs": [
    {
     "data": {
      "text/plain": [
       "array([[ 2,  1,  3],\n",
       "       [ 3,  1,  4],\n",
       "       [ 5,  7, 12]])"
      ]
     },
     "execution_count": 22,
     "metadata": {},
     "output_type": "execute_result"
    }
   ],
   "source": [
    "# cf. https://numpy.org/doc/stable/reference/generated/numpy.vstack.html\n",
    "np.vstack([[2, 1, 3], [3, 1, 4], [5, 7, 12]])  # Row-major"
   ]
  }
 ],
 "metadata": {
  "interpreter": {
   "hash": "2be5faf79681da6f2a61fdfdd5405d65d042280f7fba6178067603e3a2925119"
  },
  "kernelspec": {
   "display_name": "Python 3.10.0 64-bit",
   "language": "python",
   "name": "python3"
  },
  "language_info": {
   "codemirror_mode": {
    "name": "ipython",
    "version": 3
   },
   "file_extension": ".py",
   "mimetype": "text/x-python",
   "name": "python",
   "nbconvert_exporter": "python",
   "pygments_lexer": "ipython3",
   "version": "3.10.0"
  },
  "orig_nbformat": 4
 },
 "nbformat": 4,
 "nbformat_minor": 2
}
